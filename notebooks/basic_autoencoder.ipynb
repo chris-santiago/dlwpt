{
 "cells": [
  {
   "cell_type": "code",
   "execution_count": 1,
   "id": "06f045c3",
   "metadata": {},
   "outputs": [],
   "source": [
    "%load_ext autoreload\n",
    "%autoreload 2"
   ]
  },
  {
   "cell_type": "code",
   "execution_count": 13,
   "id": "4a08ca52",
   "metadata": {},
   "outputs": [],
   "source": [
    "from datetime import datetime\n",
    "\n",
    "import matplotlib.pyplot as plt\n",
    "import torch\n",
    "from torch.utils.data import DataLoader\n",
    "from torchmetrics import MeanSquaredError\n",
    "\n",
    "from dlwpt import ROOT\n",
    "from dlwpt.basic_autoencoder import AutoEncoder, AutoEncoderDataset\n",
    "from dlwpt.trainer import Trainer\n",
    "from dlwpt.utils import set_device, get_mnist_datasets"
   ]
  },
  {
   "cell_type": "code",
   "execution_count": 37,
   "id": "387a88d2",
   "metadata": {},
   "outputs": [],
   "source": [
    "def plot_loss(results):\n",
    "    with plt.style.context('ggplot'):\n",
    "        plt.plot('epoch', 'train_loss', data=results, label='Training Loss')\n",
    "        plt.plot('epoch', 'valid_loss', data=results, label='Validation Loss')\n",
    "        plt.title('Loss by Epoch')\n",
    "        plt.xlabel('Epoch')\n",
    "        plt.ylabel('Loss')\n",
    "        plt.legend()\n",
    "        plt.show()"
   ]
  },
  {
   "cell_type": "code",
   "execution_count": 86,
   "id": "2e4c5e0b",
   "metadata": {},
   "outputs": [],
   "source": [
    "NOW = datetime.now().strftime('%Y%m%d-%H%M')\n",
    "LOG_DIR = ROOT.joinpath('runs', NOW)\n",
    "BATCH = 128\n",
    "\n",
    "device = set_device()"
   ]
  },
  {
   "cell_type": "code",
   "execution_count": 87,
   "id": "8c5006eb",
   "metadata": {},
   "outputs": [],
   "source": [
    "train, test = get_mnist_datasets(do_augment=False)\n",
    "train, test = AutoEncoderDataset(train), AutoEncoderDataset(test)\n",
    "\n",
    "train_loader = DataLoader(train, batch_size=BATCH, shuffle=True)\n",
    "test_loader = DataLoader(test, batch_size=BATCH)"
   ]
  },
  {
   "cell_type": "code",
   "execution_count": null,
   "id": "f876ed31",
   "metadata": {
    "scrolled": true
   },
   "outputs": [
    {
     "name": "stderr",
     "output_type": "stream",
     "text": [
      "Epoch:   0%|                                                                                                                                                                 | 0/25 [00:00<?, ?it/s]\n",
      "Batch:   0%|                                                                                                                                                                | 0/469 [00:00<?, ?it/s]\u001b[A\n",
      "Batch:   1%|▉                                                                                                                                                       | 3/469 [00:00<00:16, 28.91it/s]\u001b[A\n",
      "Batch:   2%|███▏                                                                                                                                                   | 10/469 [00:00<00:08, 51.17it/s]\u001b[A\n",
      "Batch:   4%|█████▍                                                                                                                                                 | 17/469 [00:00<00:07, 58.65it/s]\u001b[A\n",
      "Batch:   5%|███████▋                                                                                                                                               | 24/469 [00:00<00:07, 61.88it/s]\u001b[A\n",
      "Batch:   7%|█████████▉                                                                                                                                             | 31/469 [00:00<00:06, 63.70it/s]\u001b[A\n",
      "Batch:   8%|████████████▏                                                                                                                                          | 38/469 [00:00<00:06, 63.89it/s]\u001b[A\n",
      "Batch:  10%|██████████████▍                                                                                                                                        | 45/469 [00:00<00:06, 65.23it/s]\u001b[A\n",
      "Batch:  11%|████████████████▋                                                                                                                                      | 52/469 [00:00<00:06, 66.15it/s]\u001b[A\n",
      "Batch:  13%|██████████████████▉                                                                                                                                    | 59/469 [00:00<00:06, 66.94it/s]\u001b[A\n",
      "Batch:  14%|█████████████████████▏                                                                                                                                 | 66/469 [00:01<00:05, 67.71it/s]\u001b[A\n",
      "Batch:  16%|███████████████████████▌                                                                                                                               | 73/469 [00:01<00:05, 68.08it/s]\u001b[A\n",
      "Batch:  17%|█████████████████████████▊                                                                                                                             | 80/469 [00:01<00:05, 68.53it/s]\u001b[A\n",
      "Batch:  19%|████████████████████████████                                                                                                                           | 87/469 [00:01<00:05, 68.89it/s]\u001b[A\n",
      "Batch:  20%|██████████████████████████████▎                                                                                                                        | 94/469 [00:01<00:05, 68.59it/s]\u001b[A\n",
      "Batch:  22%|████████████████████████████████▎                                                                                                                     | 101/469 [00:01<00:05, 68.41it/s]\u001b[A\n",
      "Batch:  23%|██████████████████████████████████▊                                                                                                                   | 109/469 [00:01<00:05, 69.02it/s]\u001b[A\n",
      "Batch:  25%|█████████████████████████████████████                                                                                                                 | 116/469 [00:01<00:05, 69.26it/s]\u001b[A\n",
      "Batch:  26%|███████████████████████████████████████▎                                                                                                              | 123/469 [00:01<00:04, 69.46it/s]\u001b[A\n",
      "Batch:  28%|█████████████████████████████████████████▉                                                                                                            | 131/469 [00:01<00:04, 69.68it/s]\u001b[A\n",
      "Batch:  29%|████████████████████████████████████████████▏                                                                                                         | 138/469 [00:02<00:04, 69.53it/s]\u001b[A\n",
      "Batch:  31%|██████████████████████████████████████████████▍                                                                                                       | 145/469 [00:02<00:04, 69.55it/s]\u001b[A\n",
      "Batch:  33%|████████████████████████████████████████████████▉                                                                                                     | 153/469 [00:02<00:04, 69.81it/s]\u001b[A\n",
      "Batch:  34%|███████████████████████████████████████████████████▏                                                                                                  | 160/469 [00:02<00:04, 69.74it/s]\u001b[A\n",
      "Batch:  36%|█████████████████████████████████████████████████████▍                                                                                                | 167/469 [00:02<00:04, 66.25it/s]\u001b[A\n",
      "Batch:  37%|███████████████████████████████████████████████████████▋                                                                                              | 174/469 [00:02<00:04, 64.76it/s]\u001b[A\n",
      "Batch:  39%|█████████████████████████████████████████████████████████▉                                                                                            | 181/469 [00:02<00:04, 62.73it/s]\u001b[A\n",
      "Batch:  40%|████████████████████████████████████████████████████████████▏                                                                                         | 188/469 [00:02<00:04, 63.78it/s]\u001b[A\n",
      "Batch:  42%|██████████████████████████████████████████████████████████████▎                                                                                       | 195/469 [00:02<00:04, 64.61it/s]\u001b[A\n",
      "Batch:  43%|████████████████████████████████████████████████████████████████▌                                                                                     | 202/469 [00:03<00:04, 65.73it/s]\u001b[A\n",
      "Batch:  45%|██████████████████████████████████████████████████████████████████▊                                                                                   | 209/469 [00:03<00:03, 66.74it/s]\u001b[A\n",
      "Batch:  46%|█████████████████████████████████████████████████████████████████████                                                                                 | 216/469 [00:03<00:03, 67.24it/s]\u001b[A\n",
      "Batch:  48%|███████████████████████████████████████████████████████████████████████▎                                                                              | 223/469 [00:03<00:03, 67.12it/s]\u001b[A\n",
      "Batch:  49%|█████████████████████████████████████████████████████████████████████████▌                                                                            | 230/469 [00:03<00:03, 67.17it/s]\u001b[A\n",
      "Batch:  51%|███████████████████████████████████████████████████████████████████████████▊                                                                          | 237/469 [00:03<00:03, 65.82it/s]\u001b[A\n",
      "Batch:  52%|██████████████████████████████████████████████████████████████████████████████                                                                        | 244/469 [00:03<00:03, 64.98it/s]\u001b[A\n",
      "Batch:  54%|████████████████████████████████████████████████████████████████████████████████▎                                                                     | 251/469 [00:03<00:03, 62.22it/s]\u001b[A\n",
      "Batch:  55%|██████████████████████████████████████████████████████████████████████████████████▌                                                                   | 258/469 [00:03<00:03, 57.36it/s]\u001b[A\n",
      "Batch:  56%|████████████████████████████████████████████████████████████████████████████████████▍                                                                 | 264/469 [00:04<00:03, 56.61it/s]\u001b[A\n",
      "Batch:  58%|██████████████████████████████████████████████████████████████████████████████████████▎                                                               | 270/469 [00:04<00:03, 55.40it/s]\u001b[A\n",
      "Batch:  59%|████████████████████████████████████████████████████████████████████████████████████████▎                                                             | 276/469 [00:04<00:03, 55.55it/s]\u001b[A\n",
      "Batch:  60%|██████████████████████████████████████████████████████████████████████████████████████████▏                                                           | 282/469 [00:04<00:03, 56.19it/s]\u001b[A\n",
      "Batch:  61%|████████████████████████████████████████████████████████████████████████████████████████████                                                          | 288/469 [00:04<00:03, 54.41it/s]\u001b[A\n",
      "Batch:  63%|██████████████████████████████████████████████████████████████████████████████████████████████                                                        | 294/469 [00:04<00:03, 54.83it/s]\u001b[A\n",
      "Batch:  64%|███████████████████████████████████████████████████████████████████████████████████████████████▉                                                      | 300/469 [00:04<00:03, 52.64it/s]\u001b[A\n",
      "Batch:  65%|█████████████████████████████████████████████████████████████████████████████████████████████████▊                                                    | 306/469 [00:04<00:03, 52.63it/s]\u001b[A\n",
      "Batch:  67%|███████████████████████████████████████████████████████████████████████████████████████████████████▊                                                  | 312/469 [00:05<00:03, 45.00it/s]\u001b[A"
     ]
    }
   ],
   "source": [
    "mod = AutoEncoder(layers=(128, 64, 16), input_shape=(28, 28))\n",
    "opt = torch.optim.AdamW(mod.parameters(), lr=0.001)\n",
    "trainer = Trainer(\n",
    "    mod, epochs=25, device=device, log_dir=LOG_DIR, checkpoint_file=LOG_DIR.joinpath('model.pt'),\n",
    "    optimizer=opt, score_funcs={'mse': MeanSquaredError()}\n",
    ")\n",
    "trainer.fit(train_loader, test_loader)"
   ]
  },
  {
   "cell_type": "code",
   "execution_count": null,
   "id": "278cbdb5",
   "metadata": {},
   "outputs": [],
   "source": [
    "plot_loss(trainer.results)"
   ]
  },
  {
   "cell_type": "code",
   "execution_count": 82,
   "id": "ff5c51a0",
   "metadata": {},
   "outputs": [
    {
     "data": {
      "image/png": "[encoded data removed]",
      "text/plain": [
       "<Figure size 200x200 with 1 Axes>"
      ]
     },
     "metadata": {},
     "output_type": "display_data"
    }
   ],
   "source": [
    "with plt.style.context('grayscale'):\n",
    "    img = train.dataset.data[1000]\n",
    "    plt.figure(figsize=(2, 2))\n",
    "    plt.tick_params(left = False, right = False, labelleft = False,labelbottom = False, bottom = False)\n",
    "    plt.imshow(img)\n",
    "    plt.show()"
   ]
  },
  {
   "cell_type": "code",
   "execution_count": 83,
   "id": "6ef644f4",
   "metadata": {},
   "outputs": [],
   "source": [
    "mod.eval()\n",
    "with torch.no_grad():\n",
    "    img_ae = mod.predict(img[None, None, :].to(torch.float32).to(device))"
   ]
  },
  {
   "cell_type": "code",
   "execution_count": 85,
   "id": "5edc697f",
   "metadata": {},
   "outputs": [
    {
     "data": {
      "image/png": "[encoded data removed]",
      "text/plain": [
       "<Figure size 200x200 with 1 Axes>"
      ]
     },
     "metadata": {},
     "output_type": "display_data"
    }
   ],
   "source": [
    "with plt.style.context('grayscale'):\n",
    "    img = train.dataset.data[0]\n",
    "    plt.figure(figsize=(2, 2))\n",
    "    plt.tick_params(left = False, right = False, labelleft = False,labelbottom = False, bottom = False)\n",
    "    plt.imshow(img_ae.cpu().squeeze())\n",
    "    plt.show()"
   ]
  },
  {
   "cell_type": "code",
   "execution_count": null,
   "id": "b7cccbeb",
   "metadata": {},
   "outputs": [],
   "source": []
  }
 ],
 "metadata": {
  "kernelspec": {
   "display_name": "Python 3 (ipykernel)",
   "language": "python",
   "name": "python3"
  },
  "language_info": {
   "codemirror_mode": {
    "name": "ipython",
    "version": 3
   },
   "file_extension": ".py",
   "mimetype": "text/x-python",
   "name": "python",
   "nbconvert_exporter": "python",
   "pygments_lexer": "ipython3",
   "version": "3.9.13"
  }
 },
 "nbformat": 4,
 "nbformat_minor": 5
}
